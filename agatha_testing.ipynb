{
  "nbformat": 4,
  "nbformat_minor": 0,
  "metadata": {
    "colab": {
      "provenance": []
    },
    "kernelspec": {
      "name": "python3",
      "display_name": "Python 3"
    },
    "language_info": {
      "name": "python"
    }
  },
  "cells": [
    {
      "cell_type": "code",
      "execution_count": 1,
      "metadata": {
        "colab": {
          "base_uri": "https://localhost:8080/"
        },
        "id": "I0U1xxAwUdqs",
        "outputId": "dd701f4e-0b9a-4e93-c9f0-3e7ae6909da5"
      },
      "outputs": [
        {
          "output_type": "stream",
          "name": "stdout",
          "text": [
            "\u001b[?25l   \u001b[90m━━━━━━━━━━━━━━━━━━━━━━━━━━━━━━━━━━━━━━━━\u001b[0m \u001b[32m0.0/2.5 MB\u001b[0m \u001b[31m?\u001b[0m eta \u001b[36m-:--:--\u001b[0m\r\u001b[2K   \u001b[91m━━━━\u001b[0m\u001b[91m╸\u001b[0m\u001b[90m━━━━━━━━━━━━━━━━━━━━━━━━━━━━━━━━━━━\u001b[0m \u001b[32m0.3/2.5 MB\u001b[0m \u001b[31m8.7 MB/s\u001b[0m eta \u001b[36m0:00:01\u001b[0m\r\u001b[2K   \u001b[91m━━━━━━━━━━━━━━━━━━━━━━━━━\u001b[0m\u001b[91m╸\u001b[0m\u001b[90m━━━━━━━━━━━━━━\u001b[0m \u001b[32m1.6/2.5 MB\u001b[0m \u001b[31m23.6 MB/s\u001b[0m eta \u001b[36m0:00:01\u001b[0m\r\u001b[2K   \u001b[91m━━━━━━━━━━━━━━━━━━━━━━━━━━━━━━━━━━━━━━━\u001b[0m\u001b[91m╸\u001b[0m \u001b[32m2.5/2.5 MB\u001b[0m \u001b[31m30.5 MB/s\u001b[0m eta \u001b[36m0:00:01\u001b[0m\r\u001b[2K   \u001b[90m━━━━━━━━━━━━━━━━━━━━━━━━━━━━━━━━━━━━━━━━\u001b[0m \u001b[32m2.5/2.5 MB\u001b[0m \u001b[31m22.9 MB/s\u001b[0m eta \u001b[36m0:00:00\u001b[0m\n",
            "\u001b[?25h\u001b[?25l   \u001b[90m━━━━━━━━━━━━━━━━━━━━━━━━━━━━━━━━━━━━━━━━\u001b[0m \u001b[32m0.0/150.2 kB\u001b[0m \u001b[31m?\u001b[0m eta \u001b[36m-:--:--\u001b[0m\r\u001b[2K   \u001b[90m━━━━━━━━━━━━━━━━━━━━━━━━━━━━━━━━━━━━━━━━\u001b[0m \u001b[32m150.2/150.2 kB\u001b[0m \u001b[31m11.4 MB/s\u001b[0m eta \u001b[36m0:00:00\u001b[0m\n",
            "\u001b[2K   \u001b[90m━━━━━━━━━━━━━━━━━━━━━━━━━━━━━━━━━━━━━━━━\u001b[0m \u001b[32m121.9/121.9 kB\u001b[0m \u001b[31m10.0 MB/s\u001b[0m eta \u001b[36m0:00:00\u001b[0m\n",
            "\u001b[2K   \u001b[90m━━━━━━━━━━━━━━━━━━━━━━━━━━━━━━━━━━━━━━━━\u001b[0m \u001b[32m1.0/1.0 MB\u001b[0m \u001b[31m43.8 MB/s\u001b[0m eta \u001b[36m0:00:00\u001b[0m\n",
            "\u001b[2K   \u001b[90m━━━━━━━━━━━━━━━━━━━━━━━━━━━━━━━━━━━━━━━━\u001b[0m \u001b[32m413.2/413.2 kB\u001b[0m \u001b[31m18.0 MB/s\u001b[0m eta \u001b[36m0:00:00\u001b[0m\n",
            "\u001b[2K   \u001b[90m━━━━━━━━━━━━━━━━━━━━━━━━━━━━━━━━━━━━━━━━\u001b[0m \u001b[32m44.7/44.7 kB\u001b[0m \u001b[31m3.9 MB/s\u001b[0m eta \u001b[36m0:00:00\u001b[0m\n",
            "\u001b[2K   \u001b[90m━━━━━━━━━━━━━━━━━━━━━━━━━━━━━━━━━━━━━━━━\u001b[0m \u001b[32m50.9/50.9 kB\u001b[0m \u001b[31m2.2 MB/s\u001b[0m eta \u001b[36m0:00:00\u001b[0m\n",
            "\u001b[?25h"
          ]
        }
      ],
      "source": [
        "%pip install --upgrade --quiet langchain-community langchainhub langgraph langchain-groq"
      ]
    },
    {
      "cell_type": "code",
      "source": [
        "from google.colab import userdata\n",
        "api_key = userdata.get('GROQ_API_KEY_3')"
      ],
      "metadata": {
        "id": "KFTXVgZwUf2w"
      },
      "execution_count": 2,
      "outputs": []
    },
    {
      "cell_type": "code",
      "source": [
        "from typing_extensions import Annotated, TypedDict, List"
      ],
      "metadata": {
        "id": "tt4AukGKqBqv"
      },
      "execution_count": 3,
      "outputs": []
    },
    {
      "cell_type": "code",
      "source": [
        "from langchain.prompts import ChatPromptTemplate"
      ],
      "metadata": {
        "id": "WrtobO-IuJW1"
      },
      "execution_count": 4,
      "outputs": []
    },
    {
      "cell_type": "code",
      "source": [
        "from langchain.chains import create_sql_query_chain"
      ],
      "metadata": {
        "id": "2S4uNVO4BHB7"
      },
      "execution_count": 5,
      "outputs": []
    },
    {
      "cell_type": "code",
      "source": [
        "from langchain_groq import ChatGroq\n",
        "llm = ChatGroq(temperature=0, model=\"llama-3.3-70b-versatile\", api_key = userdata.get('GROQ_API_KEY'))"
      ],
      "metadata": {
        "id": "x5MZHG87uLv0"
      },
      "execution_count": 6,
      "outputs": []
    },
    {
      "cell_type": "code",
      "source": [
        "class ClassifyInput(TypedDict):\n",
        "    \"\"\"Classify the input type.\"\"\"\n",
        "    input_type: Annotated[str, \"Only takes values: 'ingestion' or 'chat'\"]"
      ],
      "metadata": {
        "id": "XL67m_e1pN9z"
      },
      "execution_count": 7,
      "outputs": []
    },
    {
      "cell_type": "code",
      "source": [
        "class Transaction(TypedDict):\n",
        "    \"\"\"Transaction details.\"\"\"\n",
        "    date: Annotated[str, \"The date of the transaction in 'YYYY-MM-DD' format.\"]\n",
        "    amount: Annotated[float, \"The amount spent in the transaction.\"]\n",
        "    vendor: Annotated[str, \"The name of the vendor or store where the transaction occurred.\"]\n",
        "    description: Annotated[str, \"A brief description of the transaction, such as items purchased.\"]\n"
      ],
      "metadata": {
        "id": "8-d3KbigsCgE"
      },
      "execution_count": 8,
      "outputs": []
    },
    {
      "cell_type": "markdown",
      "source": [
        "## Natural Language Classifcation"
      ],
      "metadata": {
        "id": "kjTDFGt1umjc"
      }
    },
    {
      "cell_type": "code",
      "source": [
        "classify_llm = llm.with_structured_output(ClassifyInput)\n",
        "\n",
        "# Define the prompt for classification task\n",
        "prompt = ChatPromptTemplate.from_messages([\n",
        "    (\"system\", \"Classify the following query as either 'ingestion' or 'chat'.\"),\n",
        "    (\"human\", \"Query: {chunk}\\n\\nClassify the query as either 'ingestion' or 'chat'.\")\n",
        "])\n",
        "\n",
        "# Function to classify the input\n",
        "def classify_query(chunk: str) -> ClassifyInput:\n",
        "    # Invoke the structured LLM model to get the classification result\n",
        "    response = classify_llm.invoke(prompt.format(chunk=chunk))\n",
        "\n",
        "    # The response will be in the form of a structured output (ClassifyInput)\n",
        "    return response['input_type']"
      ],
      "metadata": {
        "id": "7K-AMUwDqGHa"
      },
      "execution_count": 9,
      "outputs": []
    },
    {
      "cell_type": "code",
      "source": [
        "classify_query(\"I bought a laptop at Best Buy on 2025-02-21 for $799.99. The laptop is an HP Spectre x360.\")"
      ],
      "metadata": {
        "colab": {
          "base_uri": "https://localhost:8080/",
          "height": 36
        },
        "id": "GFOz22A6vFC_",
        "outputId": "0d4af862-9ad9-497f-9019-50d9292b1930"
      },
      "execution_count": null,
      "outputs": [
        {
          "output_type": "execute_result",
          "data": {
            "text/plain": [
              "'ingestion'"
            ],
            "application/vnd.google.colaboratory.intrinsic+json": {
              "type": "string"
            }
          },
          "metadata": {},
          "execution_count": 10
        }
      ]
    },
    {
      "cell_type": "markdown",
      "source": [
        "## Schema Extraction"
      ],
      "metadata": {
        "id": "TVGnTWAQujlc"
      }
    },
    {
      "cell_type": "code",
      "source": [
        "# Set up the LLM with structured output\n",
        "transaction_llm = llm.with_structured_output(Transaction)\n",
        "\n",
        "# Define the prompt\n",
        "prompt = ChatPromptTemplate.from_messages([\n",
        "    (\"system\", \"Extract the transaction details from the given text input. Focus on date, amount, vendor, and description.\"),\n",
        "    (\"human\", \"Text: {chunk}\\n\\nExtract the following details:\\n- Date\\n- Amount\\n- Vendor\\n- Description.\")\n",
        "])"
      ],
      "metadata": {
        "id": "QT63ChcTrERs"
      },
      "execution_count": 10,
      "outputs": []
    },
    {
      "cell_type": "code",
      "source": [
        "# Function to process the input text and extract transaction details\n",
        "def extract_transaction_details(chunk: str) -> Transaction:\n",
        "    # Invoke the structured LLM model to get the structured output (JSON format)\n",
        "    response = transaction_llm.invoke(prompt.format(chunk=chunk))\n",
        "\n",
        "    # The response will be in the form of a structured output (Transaction)\n",
        "    return response"
      ],
      "metadata": {
        "id": "AVQfVuW5vV4q"
      },
      "execution_count": 11,
      "outputs": []
    },
    {
      "cell_type": "code",
      "source": [
        "|extract_transaction_details(\"I bought a laptop at Best Buy on 2025-02-21 for $799.99. The laptop is an HP Spectre x360\")"
      ],
      "metadata": {
        "colab": {
          "base_uri": "https://localhost:8080/"
        },
        "id": "S4gFeTugvb5C",
        "outputId": "6467eac8-317c-4343-c0de-a07e4c774f97"
      },
      "execution_count": null,
      "outputs": [
        {
          "output_type": "execute_result",
          "data": {
            "text/plain": [
              "{'date': '2025-02-21',\n",
              " 'amount': 799.99,\n",
              " 'vendor': 'Best Buy',\n",
              " 'description': 'HP Spectre x360 laptop'}"
            ]
          },
          "metadata": {},
          "execution_count": 13
        }
      ]
    },
    {
      "cell_type": "markdown",
      "source": [
        "## Ingestion Pipeline"
      ],
      "metadata": {
        "id": "0mvAS3O8uXRU"
      }
    },
    {
      "cell_type": "code",
      "source": [
        "import os\n",
        "import sqlite3\n",
        "from dotenv import load_dotenv\n",
        "\n",
        "\n",
        "\n",
        "# Set up the SQLite database to store transaction details\n",
        "def create_transaction_table():\n",
        "    # Connect to the SQLite database (this will create the database file if it doesn't exist)\n",
        "    conn = sqlite3.connect('transactions.db')\n",
        "    cursor = conn.cursor()\n",
        "\n",
        "    # Create the transactions table if it doesn't exist\n",
        "    cursor.execute('''\n",
        "        CREATE TABLE IF NOT EXISTS transactions (\n",
        "            id INTEGER PRIMARY KEY AUTOINCREMENT,\n",
        "            date TEXT,\n",
        "            amount REAL,\n",
        "            vendor TEXT,\n",
        "            description TEXT\n",
        "        )\n",
        "    ''')\n",
        "\n",
        "    # Commit changes and close the connection\n",
        "    conn.commit()\n",
        "    conn.close()\n",
        "\n",
        "def insert_transaction_to_db(transaction: Transaction):\n",
        "    # Connect to the SQLite database\n",
        "    conn = sqlite3.connect('transactions.db')\n",
        "    cursor = conn.cursor()\n",
        "\n",
        "    # Insert the extracted transaction details into the database\n",
        "    cursor.execute('''\n",
        "        INSERT INTO transactions (date, amount, vendor, description)\n",
        "        VALUES (?, ?, ?, ?)\n",
        "    ''', (transaction['date'], transaction['amount'], transaction['vendor'], transaction['description']))\n",
        "\n",
        "    # Commit changes and close the connection\n",
        "    conn.commit()\n",
        "    conn.close()\n",
        "\n",
        "def process_and_store_transaction(chunk: str):\n",
        "    # Extract transaction details\n",
        "    transaction = extract_transaction_details(chunk)\n",
        "\n",
        "    # Insert the extracted details into the database\n",
        "    insert_transaction_to_db(transaction)\n",
        "\n",
        "# Create the transaction table if not already created\n",
        "create_transaction_table()\n"
      ],
      "metadata": {
        "id": "J1CfRnfCVAvk"
      },
      "execution_count": 12,
      "outputs": []
    },
    {
      "cell_type": "code",
      "source": [
        "transaction_texts = [\n",
        "    \"I had dinner at The Bistro on 2025-02-13 for $25.50. The meal included pasta, salad, and a drink.\",\n",
        "    \"I purchased a book from Amazon on 2025-02-14 for $15.00. The book was 'Python Programming for Beginners'.\",\n",
        "    \"I filled up my car at Shell Gas Station on 2025-02-15 for $40.00. The fuel was premium unleaded.\",\n",
        "    \"I subscribed to Netflix on 2025-02-16 for $12.99. The subscription is for one month of standard service.\",\n",
        "    \"I bought a concert ticket for the Coldplay show on 2025-02-17 for $85.00. The ticket was for section A, row 10.\",\n",
        "    \"I had lunch at Starbucks on 2025-02-18 for $8.75. I ordered a sandwich and coffee.\",\n",
        "    \"I bought a jacket at Macy's on 2025-02-19 for $55.99. The jacket is from the new winter collection.\",\n",
        "    \"I took a taxi ride on 2025-02-20 for $22.50. The ride was from downtown to the airport.\",\n",
        "    \"I bought a laptop at Best Buy on 2025-02-21 for $799.99. The laptop is an HP Spectre x360.\",\n",
        "\n",
        "]\n",
        "\n",
        "for tn in transaction_texts:\n",
        "  process_and_store_transaction(tn)\n",
        "  print(\"database updated\")\n"
      ],
      "metadata": {
        "colab": {
          "base_uri": "https://localhost:8080/"
        },
        "id": "pHs1S47nYayf",
        "outputId": "3774ab9c-6a66-4e26-afa3-72ebd4375177"
      },
      "execution_count": 13,
      "outputs": [
        {
          "output_type": "stream",
          "name": "stdout",
          "text": [
            "database updated\n",
            "database updated\n",
            "database updated\n",
            "database updated\n",
            "database updated\n",
            "database updated\n",
            "database updated\n",
            "database updated\n",
            "database updated\n"
          ]
        }
      ]
    },
    {
      "cell_type": "code",
      "source": [],
      "metadata": {
        "id": "XF-5balHBO4_"
      },
      "execution_count": null,
      "outputs": []
    },
    {
      "cell_type": "code",
      "source": [],
      "metadata": {
        "id": "CRqu4wzBBO2W"
      },
      "execution_count": null,
      "outputs": []
    },
    {
      "cell_type": "markdown",
      "source": [
        "## Checking if the records are stored or not"
      ],
      "metadata": {
        "id": "3F3-9jc7v-Ur"
      }
    },
    {
      "cell_type": "code",
      "source": [
        "import sqlite3\n",
        "\n",
        "def check_records_in_db():\n",
        "    # Connect to the SQLite database\n",
        "    conn = sqlite3.connect('transactions.db')\n",
        "    cursor = conn.cursor()\n",
        "\n",
        "    # Fetch all records from the transactions table\n",
        "    cursor.execute(\"SELECT * FROM transactions\")\n",
        "    records = cursor.fetchall()\n",
        "\n",
        "    # Display the records\n",
        "    if records:\n",
        "        for record in records:\n",
        "            print(f\"ID: {record[0]}, Date: {record[1]}, Amount: {record[2]}, Vendor: {record[3]}, Description: {record[4]}\")\n",
        "    else:\n",
        "        print(\"No records found.\")\n",
        "\n",
        "    # Close the connection\n",
        "    conn.close()\n",
        "\n",
        "# Call the function to check the records\n",
        "check_records_in_db()\n"
      ],
      "metadata": {
        "colab": {
          "base_uri": "https://localhost:8080/"
        },
        "id": "FzDF5XZyXQEJ",
        "outputId": "ee6c2277-0a09-4d28-c254-1098b4e3b019"
      },
      "execution_count": 14,
      "outputs": [
        {
          "output_type": "stream",
          "name": "stdout",
          "text": [
            "ID: 1, Date: 2025-02-13, Amount: 25.5, Vendor: The Bistro, Description: pasta, salad, and a drink\n",
            "ID: 2, Date: 2025-02-14, Amount: 15.0, Vendor: Amazon, Description: Python Programming for Beginners book\n",
            "ID: 3, Date: 2025-02-15, Amount: 40.0, Vendor: Shell Gas Station, Description: premium unleaded fuel\n",
            "ID: 4, Date: 2025-02-16, Amount: 12.99, Vendor: Netflix, Description: one month of standard service\n",
            "ID: 5, Date: 2025-02-17, Amount: 85.0, Vendor: unknown, Description: concert ticket for the Coldplay show, section A, row 10\n",
            "ID: 6, Date: 2025-02-18, Amount: 8.75, Vendor: Starbucks, Description: a sandwich and coffee\n",
            "ID: 7, Date: 2025-02-19, Amount: 55.99, Vendor: Macy's, Description: a jacket from the new winter collection\n",
            "ID: 8, Date: 2025-02-20, Amount: 22.5, Vendor: taxi, Description: taxi ride from downtown to the airport\n",
            "ID: 9, Date: 2025-02-21, Amount: 799.99, Vendor: Best Buy, Description: HP Spectre x360 laptop\n"
          ]
        }
      ]
    },
    {
      "cell_type": "markdown",
      "source": [
        "## QnA (NL2SQL Pipeline)"
      ],
      "metadata": {
        "id": "S90Zq7SgudWk"
      }
    },
    {
      "cell_type": "code",
      "source": [
        "from langchain import hub\n",
        "query_prompt_template = hub.pull(\"langchain-ai/sql-agent-system-prompt\")\n",
        "assert len(query_prompt_template.messages) == 1"
      ],
      "metadata": {
        "colab": {
          "base_uri": "https://localhost:8080/"
        },
        "id": "7esz8gfUZWUm",
        "outputId": "eb64d09d-fddd-48dd-9f73-26bd864a72e7"
      },
      "execution_count": 15,
      "outputs": [
        {
          "output_type": "stream",
          "name": "stderr",
          "text": [
            "/usr/local/lib/python3.11/dist-packages/langsmith/client.py:253: LangSmithMissingAPIKeyWarning: API key must be provided when using hosted LangSmith API\n",
            "  warnings.warn(\n"
          ]
        }
      ]
    },
    {
      "cell_type": "code",
      "source": [
        "from langchain_community.utilities import SQLDatabase\n",
        "\n",
        "db = SQLDatabase.from_uri(\"sqlite:///transactions.db\")\n",
        "print(db.dialect)\n",
        "print(db.get_usable_table_names())"
      ],
      "metadata": {
        "colab": {
          "base_uri": "https://localhost:8080/"
        },
        "id": "VgB0JBH_Z5wW",
        "outputId": "ebcae1f5-fd53-4ad6-fa7e-6baf232bb8a7"
      },
      "execution_count": 16,
      "outputs": [
        {
          "output_type": "stream",
          "name": "stdout",
          "text": [
            "sqlite\n",
            "['transactions']\n"
          ]
        }
      ]
    },
    {
      "cell_type": "code",
      "source": [
        "db.get_table_info()"
      ],
      "metadata": {
        "colab": {
          "base_uri": "https://localhost:8080/",
          "height": 73
        },
        "id": "G96kqeAWNR0M",
        "outputId": "01222472-c9ff-49bf-d265-afb7e199bd60"
      },
      "execution_count": 17,
      "outputs": [
        {
          "output_type": "execute_result",
          "data": {
            "text/plain": [
              "'\\nCREATE TABLE transactions (\\n\\tid INTEGER, \\n\\tdate TEXT, \\n\\tamount REAL, \\n\\tvendor TEXT, \\n\\tdescription TEXT, \\n\\tPRIMARY KEY (id)\\n)\\n\\n/*\\n3 rows from transactions table:\\nid\\tdate\\tamount\\tvendor\\tdescription\\n1\\t2025-02-13\\t25.5\\tThe Bistro\\tpasta, salad, and a drink\\n2\\t2025-02-14\\t15.0\\tAmazon\\tPython Programming for Beginners book\\n3\\t2025-02-15\\t40.0\\tShell Gas Station\\tpremium unleaded fuel\\n*/'"
            ],
            "application/vnd.google.colaboratory.intrinsic+json": {
              "type": "string"
            }
          },
          "metadata": {},
          "execution_count": 17
        }
      ]
    },
    {
      "cell_type": "code",
      "source": [
        "system_message = query_prompt_template.format(dialect=\"SQLite\", top_k=\"\")"
      ],
      "metadata": {
        "id": "a_ZrbVyjKTlD"
      },
      "execution_count": null,
      "outputs": []
    },
    {
      "cell_type": "code",
      "source": [],
      "metadata": {
        "id": "VcfgR97YCQml"
      },
      "execution_count": null,
      "outputs": []
    },
    {
      "cell_type": "code",
      "source": [
        "from typing_extensions import TypedDict\n",
        "\n",
        "\n",
        "class State(TypedDict):\n",
        "    question: str\n",
        "    query: str\n",
        "    result: str\n",
        "    answer: str"
      ],
      "metadata": {
        "id": "CA7-52idaTxt"
      },
      "execution_count": 18,
      "outputs": []
    },
    {
      "cell_type": "code",
      "source": [
        "from typing_extensions import Annotated\n",
        "\n",
        "\n",
        "class QueryOutput(TypedDict):\n",
        "    \"\"\"Generated SQL query.\"\"\"\n",
        "\n",
        "    query: Annotated[str, ..., \"Syntactically valid SQL query.\"]\n",
        "\n",
        "\n",
        "def write_query(state: State):\n",
        "    \"\"\"Generate SQL query to fetch information.\"\"\"\n",
        "    prompt = query_prompt_template.invoke(\n",
        "        {\n",
        "            \"dialect\": db.dialect,\n",
        "            \"top_k\": 10,\n",
        "            \"table_info\": db.get_table_info(),\n",
        "            \"input\": state[\"question\"],\n",
        "        }\n",
        "    )\n",
        "    structured_llm = llm.with_structured_output(QueryOutput)\n",
        "    result = structured_llm.invoke(prompt)\n",
        "    return {\"query\": result[\"query\"]}"
      ],
      "metadata": {
        "id": "q8lTy2sDZsYb"
      },
      "execution_count": 19,
      "outputs": []
    },
    {
      "cell_type": "code",
      "source": [
        "write_query({\"question\": \"How much I paid for the Gas?\"})"
      ],
      "metadata": {
        "colab": {
          "base_uri": "https://localhost:8080/"
        },
        "id": "sAWe4WAbagvx",
        "outputId": "8a6bdc1c-02bd-456e-9565-5eefa95cbb69"
      },
      "execution_count": 21,
      "outputs": [
        {
          "output_type": "execute_result",
          "data": {
            "text/plain": [
              "{'query': \"SELECT name FROM sqlite_master WHERE type='table';\"}"
            ]
          },
          "metadata": {},
          "execution_count": 21
        }
      ]
    },
    {
      "cell_type": "code",
      "source": [
        "from langchain_community.tools.sql_database.tool import QuerySQLDatabaseTool\n",
        "\n",
        "\n",
        "def execute_query(state: State):\n",
        "    \"\"\"Execute SQL query.\"\"\"\n",
        "    execute_query_tool = QuerySQLDatabaseTool(db=db)\n",
        "    return {\"result\": execute_query_tool.invoke(state[\"query\"])}"
      ],
      "metadata": {
        "id": "anW6F_aPauUo"
      },
      "execution_count": null,
      "outputs": []
    },
    {
      "cell_type": "code",
      "source": [
        "execute_query(write_query({\"question\": \"what w?\"}))ere the expenses in the Bistor"
      ],
      "metadata": {
        "colab": {
          "base_uri": "https://localhost:8080/"
        },
        "id": "Gdp4FDANa5n2",
        "outputId": "d7b3fa9f-1bd9-4aa2-cfad-976edec2e441"
      },
      "execution_count": null,
      "outputs": [
        {
          "output_type": "execute_result",
          "data": {
            "text/plain": [
              "{'result': \"[('transactions',), ('sqlite_sequence',)]\"}"
            ]
          },
          "metadata": {},
          "execution_count": 26
        }
      ]
    },
    {
      "cell_type": "code",
      "source": [
        "def generate_answer(state: State):\n",
        "    \"\"\"Answer question using retrieved information as context.\"\"\"\n",
        "    prompt = (\n",
        "        \"Given the following user question, corresponding SQL query, \"\n",
        "        \"and SQL result, answer the user question.\\n\\n\"\n",
        "        f'Question: {state[\"question\"]}\\n'\n",
        "        f'SQL Query: {state[\"query\"]}\\n'\n",
        "        f'SQL Result: {state[\"result\"]}'\n",
        "    )\n",
        "    response = llm.invoke(prompt)\n",
        "    return {\"answer\": response.content}"
      ],
      "metadata": {
        "id": "LZlPFvrwbEHC"
      },
      "execution_count": null,
      "outputs": []
    },
    {
      "cell_type": "code",
      "source": [
        "from langgraph.graph import START, StateGraph\n",
        "\n",
        "graph_builder = StateGraph(State).add_sequence(\n",
        "    [write_query, execute_query, generate_answer]\n",
        ")\n",
        "graph_builder.add_edge(START, \"write_query\")\n",
        "graph = graph_builder.compile()"
      ],
      "metadata": {
        "id": "RTbfhZWybO3E"
      },
      "execution_count": null,
      "outputs": []
    },
    {
      "cell_type": "code",
      "source": [
        "from IPython.display import Image, display\n",
        "\n",
        "display(Image(graph.get_graph().draw_mermaid_png()))"
      ],
      "metadata": {
        "colab": {
          "base_uri": "https://localhost:8080/",
          "height": 350
        },
        "id": "rXjEPYK4bQsZ",
        "outputId": "f65a72a6-b85e-4bcf-a8cf-5c004e264e5b"
      },
      "execution_count": null,
      "outputs": [
        {
          "output_type": "display_data",
          "data": {
            "image/png": "[encoded data removed]",
            "text/plain": [
              "<IPython.core.display.Image object>"
            ]
          },
          "metadata": {}
        }
      ]
    },
    {
      "cell_type": "code",
      "source": [
        "output = []\n",
        "for step in graph.stream(\n",
        "    {\"question\": \"On which date, the expenses were lowest?, also mention the transaction\"},\n",
        "    stream_mode=\"updates\",\n",
        "):\n",
        "    output.append(step)\n",
        "\n",
        "print(output[-1]['generate_answer'][\"answer\"])"
      ],
      "metadata": {
        "colab": {
          "base_uri": "https://localhost:8080/"
        },
        "id": "CLK8R4l0b3JT",
        "outputId": "2db0bd96-c688-4a51-c47d-50caf8cd6f1c"
      },
      "execution_count": null,
      "outputs": [
        {
          "output_type": "stream",
          "name": "stdout",
          "text": [
            "The expenses were lowest on '2025-02-18' with a transaction of $8.75 for 'a sandwich and coffee' from 'Starbucks'.\n"
          ]
        }
      ]
    },
    {
      "cell_type": "code",
      "source": [
        "from langchain_community.agent_toolkits import SQLDatabaseToolkit\n",
        "\n",
        "toolkit = SQLDatabaseToolkit(db=db, llm=llm)\n",
        "\n",
        "tools = toolkit.get_tools()\n",
        "\n",
        "tools"
      ],
      "metadata": {
        "colab": {
          "base_uri": "https://localhost:8080/"
        },
        "id": "uQ8-NR6FOT08",
        "outputId": "3af32f7b-927b-4ed1-89cf-5438cbab51dc"
      },
      "execution_count": null,
      "outputs": [
        {
          "output_type": "execute_result",
          "data": {
            "text/plain": [
              "[QuerySQLDatabaseTool(description=\"Input to this tool is a detailed and correct SQL query, output is a result from the database. If the query is not correct, an error message will be returned. If an error is returned, rewrite the query, check the query, and try again. If you encounter an issue with Unknown column 'xxxx' in 'field list', use sql_db_schema to query the correct table fields.\", db=<langchain_community.utilities.sql_database.SQLDatabase object at 0x79e04793f4d0>),\n",
              " InfoSQLDatabaseTool(description='Input to this tool is a comma-separated list of tables, output is the schema and sample rows for those tables. Be sure that the tables actually exist by calling sql_db_list_tables first! Example Input: table1, table2, table3', db=<langchain_community.utilities.sql_database.SQLDatabase object at 0x79e04793f4d0>),\n",
              " ListSQLDatabaseTool(db=<langchain_community.utilities.sql_database.SQLDatabase object at 0x79e04793f4d0>),\n",
              " QuerySQLCheckerTool(description='Use this tool to double check if your query is correct before executing it. Always use this tool before executing a query with sql_db_query!', db=<langchain_community.utilities.sql_database.SQLDatabase object at 0x79e04793f4d0>, llm=ChatGroq(client=<groq.resources.chat.completions.Completions object at 0x79e05c1768d0>, async_client=<groq.resources.chat.completions.AsyncCompletions object at 0x79e0700e6890>, model_name='llama-3.3-70b-versatile', temperature=1e-08, model_kwargs={}, groq_api_key=SecretStr('**********')), llm_chain=LLMChain(verbose=False, prompt=PromptTemplate(input_variables=['dialect', 'query'], input_types={}, partial_variables={}, template='\\n{query}\\nDouble check the {dialect} query above for common mistakes, including:\\n- Using NOT IN with NULL values\\n- Using UNION when UNION ALL should have been used\\n- Using BETWEEN for exclusive ranges\\n- Data type mismatch in predicates\\n- Properly quoting identifiers\\n- Using the correct number of arguments for functions\\n- Casting to the correct data type\\n- Using the proper columns for joins\\n\\nIf there are any of the above mistakes, rewrite the query. If there are no mistakes, just reproduce the original query.\\n\\nOutput the final SQL query only.\\n\\nSQL Query: '), llm=ChatGroq(client=<groq.resources.chat.completions.Completions object at 0x79e05c1768d0>, async_client=<groq.resources.chat.completions.AsyncCompletions object at 0x79e0700e6890>, model_name='llama-3.3-70b-versatile', temperature=1e-08, model_kwargs={}, groq_api_key=SecretStr('**********')), output_parser=StrOutputParser(), llm_kwargs={}))]"
            ]
          },
          "metadata": {},
          "execution_count": 22
        }
      ]
    },
    {
      "cell_type": "code",
      "source": [
        "from langchain_core.messages import HumanMessage\n",
        "from langgraph.prebuilt import create_react_agent\n",
        "\n",
        "agent_executor = create_react_agent(llm, tools, prompt=system_message)"
      ],
      "metadata": {
        "id": "TFbAuoS4cZr9"
      },
      "execution_count": null,
      "outputs": []
    },
    {
      "cell_type": "code",
      "source": [
        "question = \"what were the expenses in the Bistor?\"\n",
        "\n",
        "for chunk in agent_executor.stream(\n",
        "    {\"messages\": [{\"role\": \"user\", \"content\": question}]},\n",
        "    stream_mode=\"values\"):\n",
        "\n",
        "    final_result = chunk\n",
        "\n",
        "result = final_result[\"messages\"][-1].content"
      ],
      "metadata": {
        "id": "GtCNIYxzOjjl"
      },
      "execution_count": null,
      "outputs": []
    },
    {
      "cell_type": "code",
      "source": [
        "print(result)"
      ],
      "metadata": {
        "colab": {
          "base_uri": "https://localhost:8080/"
        },
        "id": "mXKlRrRlOss_",
        "outputId": "8cf00ccf-6e1a-482a-fe52-19d5283706c6"
      },
      "execution_count": null,
      "outputs": [
        {
          "output_type": "stream",
          "name": "stdout",
          "text": [
            "The expense in the Bistro was $25.5.\n"
          ]
        }
      ]
    },
    {
      "cell_type": "code",
      "source": [],
      "metadata": {
        "id": "uRJNSyFtP2v3"
      },
      "execution_count": null,
      "outputs": []
    }
  ]
}