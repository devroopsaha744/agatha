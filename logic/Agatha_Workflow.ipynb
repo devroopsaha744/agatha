{
  "nbformat": 4,
  "nbformat_minor": 0,
  "metadata": {
    "colab": {
      "provenance": []
    },
    "kernelspec": {
      "name": "python3",
      "display_name": "Python 3"
    },
    "language_info": {
      "name": "python"
    }
  },
  "cells": [
    {
      "cell_type": "code",
      "execution_count": 1,
      "metadata": {
        "colab": {
          "base_uri": "https://localhost:8080/"
        },
        "id": "I0U1xxAwUdqs",
        "outputId": "8f6b15b5-77de-4496-993f-0ef47e4ac12b"
      },
      "outputs": [
        {
          "output_type": "stream",
          "name": "stdout",
          "text": [
            "\u001b[?25l   \u001b[90m━━━━━━━━━━━━━━━━━━━━━━━━━━━━━━━━━━━━━━━━\u001b[0m \u001b[32m0.0/151.5 kB\u001b[0m \u001b[31m?\u001b[0m eta \u001b[36m-:--:--\u001b[0m\r\u001b[2K   \u001b[90m━━━━━━━━━━━━━━━━━━━━━━━━━━━━━━━━━━━━━━━━\u001b[0m \u001b[32m151.5/151.5 kB\u001b[0m \u001b[31m10.4 MB/s\u001b[0m eta \u001b[36m0:00:00\u001b[0m\n",
            "\u001b[2K   \u001b[90m━━━━━━━━━━━━━━━━━━━━━━━━━━━━━━━━━━━━━━━━\u001b[0m \u001b[32m2.5/2.5 MB\u001b[0m \u001b[31m53.8 MB/s\u001b[0m eta \u001b[36m0:00:00\u001b[0m\n",
            "\u001b[2K   \u001b[90m━━━━━━━━━━━━━━━━━━━━━━━━━━━━━━━━━━━━━━━━\u001b[0m \u001b[32m121.9/121.9 kB\u001b[0m \u001b[31m8.3 MB/s\u001b[0m eta \u001b[36m0:00:00\u001b[0m\n",
            "\u001b[2K   \u001b[90m━━━━━━━━━━━━━━━━━━━━━━━━━━━━━━━━━━━━━━━━\u001b[0m \u001b[32m44.7/44.7 kB\u001b[0m \u001b[31m3.1 MB/s\u001b[0m eta \u001b[36m0:00:00\u001b[0m\n",
            "\u001b[2K   \u001b[90m━━━━━━━━━━━━━━━━━━━━━━━━━━━━━━━━━━━━━━━━\u001b[0m \u001b[32m50.9/50.9 kB\u001b[0m \u001b[31m3.5 MB/s\u001b[0m eta \u001b[36m0:00:00\u001b[0m\n",
            "\u001b[?25h"
          ]
        }
      ],
      "source": [
        "%pip install --upgrade --quiet  langchainhub langgraph langchain-groq langchain-community"
      ]
    },
    {
      "cell_type": "code",
      "source": [
        "from typing_extensions import Annotated, TypedDict, List"
      ],
      "metadata": {
        "id": "tt4AukGKqBqv"
      },
      "execution_count": 2,
      "outputs": []
    },
    {
      "cell_type": "code",
      "source": [
        "from langchain.prompts import ChatPromptTemplate"
      ],
      "metadata": {
        "id": "WrtobO-IuJW1"
      },
      "execution_count": 3,
      "outputs": []
    },
    {
      "cell_type": "code",
      "source": [
        "from langchain.chains import create_sql_query_chain"
      ],
      "metadata": {
        "id": "2S4uNVO4BHB7"
      },
      "execution_count": 4,
      "outputs": []
    },
    {
      "cell_type": "code",
      "source": [
        "from langchain_groq import ChatGroq\n",
        "from google.colab import userdata\n",
        "\n",
        "llm = ChatGroq(temperature=0, model=\"llama-3.3-70b-versatile\", api_key = userdata.get('GROQ_API_KEY'))"
      ],
      "metadata": {
        "id": "x5MZHG87uLv0"
      },
      "execution_count": 5,
      "outputs": []
    },
    {
      "cell_type": "code",
      "source": [
        "class ClassifyInput(TypedDict):\n",
        "    \"\"\"Classify the input type.\"\"\"\n",
        "    input_type: Annotated[str, \"Only takes values: 'ingestion' or 'chat'\"]"
      ],
      "metadata": {
        "id": "XL67m_e1pN9z"
      },
      "execution_count": 6,
      "outputs": []
    },
    {
      "cell_type": "code",
      "source": [
        "class Transaction(TypedDict):\n",
        "    \"\"\"Transaction details.\"\"\"\n",
        "    date: Annotated[str, \"The date of the transaction in 'YYYY-MM-DD' format.\"]\n",
        "    amount: Annotated[float, \"The amount spent in the transaction.\"]\n",
        "    vendor: Annotated[str, \"The name of the vendor or store where the transaction occurred.\"]\n",
        "    description: Annotated[str, \"A brief description of the transaction, such as items purchased.\"]\n"
      ],
      "metadata": {
        "id": "8-d3KbigsCgE"
      },
      "execution_count": 7,
      "outputs": []
    },
    {
      "cell_type": "markdown",
      "source": [
        "## Natural Language Classifcation"
      ],
      "metadata": {
        "id": "kjTDFGt1umjc"
      }
    },
    {
      "cell_type": "code",
      "source": [
        "classify_llm = llm.with_structured_output(ClassifyInput)\n",
        "\n",
        "prompt = ChatPromptTemplate.from_messages([\n",
        "    (\"system\", \"Classify the following query as either 'ingestion' or 'chat'.\"),\n",
        "    (\"human\", \"Query: {chunk}\\n\\nClassify the query as either 'ingestion' or 'chat'.\")\n",
        "])\n",
        "\n",
        "def classify_query(chunk: str) -> ClassifyInput:\n",
        "    response = classify_llm.invoke(prompt.format(chunk=chunk))\n",
        "\n",
        "    return response['input_type']"
      ],
      "metadata": {
        "id": "7K-AMUwDqGHa"
      },
      "execution_count": 8,
      "outputs": []
    },
    {
      "cell_type": "code",
      "source": [
        "classify_query(\"I bought a laptop at Best Buy on 2025-02-21 for $799.99. The laptop is an HP Spectre x360.\")"
      ],
      "metadata": {
        "colab": {
          "base_uri": "https://localhost:8080/",
          "height": 36
        },
        "id": "GFOz22A6vFC_",
        "outputId": "863f587b-b0ef-49d1-88f0-ee357c2100bd"
      },
      "execution_count": null,
      "outputs": [
        {
          "output_type": "execute_result",
          "data": {
            "text/plain": [
              "'ingestion'"
            ],
            "application/vnd.google.colaboratory.intrinsic+json": {
              "type": "string"
            }
          },
          "metadata": {},
          "execution_count": 9
        }
      ]
    },
    {
      "cell_type": "markdown",
      "source": [
        "## Schema Extraction"
      ],
      "metadata": {
        "id": "TVGnTWAQujlc"
      }
    },
    {
      "cell_type": "code",
      "source": [
        "transaction_llm = llm.with_structured_output(Transaction)\n",
        "\n",
        "prompt = ChatPromptTemplate.from_messages([\n",
        "    (\"system\", \"Extract the transaction details from the given text input. Focus on date, amount, vendor, and description.\"),\n",
        "    (\"human\", \"Text: {chunk}\\n\\nExtract the following details:\\n- Date\\n- Amount\\n- Vendor\\n- Description.\")\n",
        "])"
      ],
      "metadata": {
        "id": "QT63ChcTrERs"
      },
      "execution_count": 9,
      "outputs": []
    },
    {
      "cell_type": "code",
      "source": [
        "def extract_transaction_details(chunk: str) -> Transaction:\n",
        "    response = transaction_llm.invoke(prompt.format(chunk=chunk))\n",
        "    return response"
      ],
      "metadata": {
        "id": "AVQfVuW5vV4q"
      },
      "execution_count": 10,
      "outputs": []
    },
    {
      "cell_type": "code",
      "source": [
        "extract_transaction_details(\"I bought a laptop at Best Buy on 2025-02-21 for $799.99. The laptop is an HP Spectre x360\")"
      ],
      "metadata": {
        "colab": {
          "base_uri": "https://localhost:8080/"
        },
        "id": "S4gFeTugvb5C",
        "outputId": "53c2b2e0-c1e0-41a5-803b-3f51b66f1948"
      },
      "execution_count": null,
      "outputs": [
        {
          "output_type": "execute_result",
          "data": {
            "text/plain": [
              "{'amount': 799.99,\n",
              " 'date': '2025-02-21',\n",
              " 'description': 'HP Spectre x360 laptop',\n",
              " 'vendor': 'Best Buy'}"
            ]
          },
          "metadata": {},
          "execution_count": 11
        }
      ]
    },
    {
      "cell_type": "markdown",
      "source": [
        "## Ingestion Pipeline"
      ],
      "metadata": {
        "id": "0mvAS3O8uXRU"
      }
    },
    {
      "cell_type": "code",
      "source": [
        "import os\n",
        "import sqlite3\n",
        "from dotenv import load_dotenv\n",
        "\n",
        "\n",
        "\n",
        "def create_transaction_table():\n",
        "    conn = sqlite3.connect('transactions.db')\n",
        "    cursor = conn.cursor()\n",
        "\n",
        "    cursor.execute('''\n",
        "        CREATE TABLE IF NOT EXISTS transactions (\n",
        "            id INTEGER PRIMARY KEY AUTOINCREMENT,\n",
        "            date TEXT,\n",
        "            amount REAL,\n",
        "            vendor TEXT,\n",
        "            description TEXT\n",
        "        )\n",
        "    ''')\n",
        "\n",
        "    conn.commit()\n",
        "    conn.close()\n",
        "\n",
        "def insert_transaction_to_db(transaction: Transaction):\n",
        "    conn = sqlite3.connect('transactions.db')\n",
        "    cursor = conn.cursor()\n",
        "\n",
        "    cursor.execute('''\n",
        "        INSERT INTO transactions (date, amount, vendor, description)\n",
        "        VALUES (?, ?, ?, ?)\n",
        "    ''', (transaction['date'], transaction['amount'], transaction['vendor'], transaction['description']))\n",
        "\n",
        "    conn.commit()\n",
        "    conn.close()\n",
        "\n",
        "def process_and_store_transaction(chunk: str):\n",
        "    transaction = extract_transaction_details(chunk)\n",
        "\n",
        "    insert_transaction_to_db(transaction)\n",
        "\n",
        "create_transaction_table()\n"
      ],
      "metadata": {
        "id": "J1CfRnfCVAvk"
      },
      "execution_count": 11,
      "outputs": []
    },
    {
      "cell_type": "code",
      "source": [
        "transaction_texts = [\n",
        "    \"I had dinner at The Bistro on 2025-02-13 for $25.50. The meal included pasta, salad, and a drink.\",\n",
        "    \"I purchased a book from Amazon on 2025-02-14 for $15.00. The book was 'Python Programming for Beginners'.\",\n",
        "    \"I filled up my car at Shell Gas Station on 2025-02-15 for $40.00. The fuel was premium unleaded.\",\n",
        "    \"I subscribed to Netflix on 2025-02-16 for $12.99. The subscription is for one month of standard service.\",\n",
        "    \"I bought a concert ticket for the Coldplay show on 2025-02-17 for $85.00. The ticket was for section A, row 10.\",\n",
        "    \"I had lunch at Starbucks on 2025-02-18 for $8.75. I ordered a sandwich and coffee.\",\n",
        "    \"I bought a jacket at Macy's on 2025-02-19 for $55.99. The jacket is from the new winter collection.\",\n",
        "    \"I took a taxi ride on 2025-02-20 for $22.50. The ride was from downtown to the airport.\",\n",
        "    \"I bought a laptop at Best Buy on 2025-02-21 for $799.99. The laptop is an HP Spectre x360.\",\n",
        "\n",
        "]\n",
        "\n",
        "for tn in transaction_texts:\n",
        "  process_and_store_transaction(tn)\n",
        "  print(\"database updated\")\n"
      ],
      "metadata": {
        "colab": {
          "base_uri": "https://localhost:8080/"
        },
        "id": "pHs1S47nYayf",
        "outputId": "743f815a-f0a3-47be-bca5-2454a1263d18"
      },
      "execution_count": 12,
      "outputs": [
        {
          "output_type": "stream",
          "name": "stdout",
          "text": [
            "database updated\n",
            "database updated\n",
            "database updated\n",
            "database updated\n",
            "database updated\n",
            "database updated\n",
            "database updated\n",
            "database updated\n",
            "database updated\n"
          ]
        }
      ]
    },
    {
      "cell_type": "markdown",
      "source": [
        "## Checking if the records are stored or not"
      ],
      "metadata": {
        "id": "3F3-9jc7v-Ur"
      }
    },
    {
      "cell_type": "code",
      "source": [
        "import sqlite3\n",
        "\n",
        "def check_records_in_db():\n",
        "    conn = sqlite3.connect('transactions.db')\n",
        "    cursor = conn.cursor()\n",
        "\n",
        "    cursor.execute(\"SELECT * FROM transactions\")\n",
        "    records = cursor.fetchall()\n",
        "\n",
        "    if records:\n",
        "        for record in records:\n",
        "            print(f\"ID: {record[0]}, Date: {record[1]}, Amount: {record[2]}, Vendor: {record[3]}, Description: {record[4]}\")\n",
        "    else:\n",
        "        print(\"No records found.\")\n",
        "\n",
        "    conn.close()\n",
        "\n",
        "check_records_in_db()\n"
      ],
      "metadata": {
        "colab": {
          "base_uri": "https://localhost:8080/"
        },
        "id": "FzDF5XZyXQEJ",
        "outputId": "f6e7a6ba-4fcf-4f65-b9e8-a4ce2e01c773"
      },
      "execution_count": 13,
      "outputs": [
        {
          "output_type": "stream",
          "name": "stdout",
          "text": [
            "ID: 1, Date: 2025-02-13, Amount: 25.5, Vendor: The Bistro, Description: dinner, pasta, salad, and a drink\n",
            "ID: 2, Date: 2025-02-14, Amount: 15.0, Vendor: Amazon, Description: Python Programming for Beginners book\n",
            "ID: 3, Date: 2025-02-15, Amount: 40.0, Vendor: Shell Gas Station, Description: premium unleaded fuel\n",
            "ID: 4, Date: 2025-02-16, Amount: 12.99, Vendor: Netflix, Description: one month of standard service\n",
            "ID: 5, Date: 2025-02-17, Amount: 85.0, Vendor: Unknown, Description: Concert ticket for Coldplay show, section A, row 10\n",
            "ID: 6, Date: 2025-02-18, Amount: 8.75, Vendor: Starbucks, Description: a sandwich and coffee\n",
            "ID: 7, Date: 2025-02-19, Amount: 55.99, Vendor: Macy's, Description: a jacket from the new winter collection\n",
            "ID: 8, Date: 2025-02-20, Amount: 22.5, Vendor: taxi, Description: taxi ride from downtown to the airport\n",
            "ID: 9, Date: 2025-02-21, Amount: 799.99, Vendor: Best Buy, Description: HP Spectre x360 laptop\n"
          ]
        }
      ]
    },
    {
      "cell_type": "markdown",
      "source": [
        "## QnA (NL2SQL Pipeline)"
      ],
      "metadata": {
        "id": "S90Zq7SgudWk"
      }
    },
    {
      "cell_type": "code",
      "source": [
        "from langchain_community.utilities import SQLDatabase\n",
        "\n",
        "db = SQLDatabase.from_uri(\"sqlite:///transactions.db\")\n",
        "print(db.dialect)\n",
        "print(db.get_usable_table_names())\n"
      ],
      "metadata": {
        "id": "b4oycPjv2eHE",
        "colab": {
          "base_uri": "https://localhost:8080/"
        },
        "outputId": "2e000023-7e38-4421-9506-b662a450cdeb"
      },
      "execution_count": 14,
      "outputs": [
        {
          "output_type": "stream",
          "name": "stdout",
          "text": [
            "sqlite\n",
            "['transactions']\n"
          ]
        }
      ]
    },
    {
      "cell_type": "code",
      "source": [
        "answer = db.run(\"SELECT*FROM transactions\")"
      ],
      "metadata": {
        "id": "Wg2fAlmXXy4f"
      },
      "execution_count": null,
      "outputs": []
    },
    {
      "cell_type": "code",
      "source": [
        "answer"
      ],
      "metadata": {
        "colab": {
          "base_uri": "https://localhost:8080/",
          "height": 73
        },
        "id": "b82mKGvut85x",
        "outputId": "8f76ab09-d98b-4bf8-e298-55e14e636d22"
      },
      "execution_count": null,
      "outputs": [
        {
          "output_type": "execute_result",
          "data": {
            "text/plain": [
              "'[(1, \\'2025-02-13\\', 25.5, \\'The Bistro\\', \\'pasta, salad, and a drink\\'), (2, \\'2025-02-14\\', 15.0, \\'Amazon\\', \\'Python Programming for Beginners book\\'), (3, \\'2025-02-15\\', 40.0, \\'Shell Gas Station\\', \\'premium unleaded fuel\\'), (4, \\'2025-02-16\\', 12.99, \\'Netflix\\', \\'one month of standard service\\'), (5, \\'2025-02-17\\', 85.0, \\'Unknown\\', \\'Concert ticket for Coldplay show, section A, row 10\\'), (6, \\'2025-02-18\\', 8.75, \\'Starbucks\\', \\'a sandwich and coffee\\'), (7, \\'2025-02-19\\', 55.99, \"Macy\\'s\", \\'a jacket from the new winter collection\\'), (8, \\'2025-02-20\\', 22.5, \\'taxi\\', \\'taxi ride from downtown to the airport\\'), (9, \\'2025-02-21\\', 799.99, \\'Best Buy\\', \\'HP Spectre x360 laptop\\')]'"
            ],
            "application/vnd.google.colaboratory.intrinsic+json": {
              "type": "string"
            }
          },
          "metadata": {},
          "execution_count": 21
        }
      ]
    },
    {
      "cell_type": "code",
      "source": [
        "from langchain.chains import create_sql_query_chain\n",
        "generate_query = create_sql_query_chain(llm, db)\n",
        "query = generate_query.invoke({\"question\": \"what is my total amount spending?`\"})"
      ],
      "metadata": {
        "id": "ZhRqOfsw7s2v"
      },
      "execution_count": 15,
      "outputs": []
    },
    {
      "cell_type": "code",
      "source": [
        "query"
      ],
      "metadata": {
        "colab": {
          "base_uri": "https://localhost:8080/",
          "height": 36
        },
        "id": "Jgl0D6D7pHgf",
        "outputId": "2849731a-9d19-468e-c53b-d4dae1e7b975"
      },
      "execution_count": 16,
      "outputs": [
        {
          "output_type": "execute_result",
          "data": {
            "text/plain": [
              "'Question: what is my total amount spending?\\nSQLQuery: SELECT SUM(\"amount\") AS \"total_spending\" FROM transactions'"
            ],
            "application/vnd.google.colaboratory.intrinsic+json": {
              "type": "string"
            }
          },
          "metadata": {},
          "execution_count": 16
        }
      ]
    },
    {
      "cell_type": "code",
      "source": [
        "query_text = query.split(\"SQLQuery:\")[1].strip()\n",
        "print(query_text)"
      ],
      "metadata": {
        "colab": {
          "base_uri": "https://localhost:8080/"
        },
        "id": "BOnhyApxrK0i",
        "outputId": "7f2cd451-34d5-492c-f347-e7db676f0ead"
      },
      "execution_count": 19,
      "outputs": [
        {
          "output_type": "stream",
          "name": "stdout",
          "text": [
            "SELECT SUM(\"amount\") AS \"total_spending\" FROM transactions\n"
          ]
        }
      ]
    },
    {
      "cell_type": "code",
      "source": [
        "from langchain_community.tools.sql_database.tool import QuerySQLDatabaseTool\n",
        "execute_query = QuerySQLDatabaseTool(db=db)\n",
        "execute_query.invoke(query_text)\n"
      ],
      "metadata": {
        "colab": {
          "base_uri": "https://localhost:8080/",
          "height": 36
        },
        "id": "h_WQKOAqpJeJ",
        "outputId": "9c557b85-55c8-4ead-eccb-20840e26a190"
      },
      "execution_count": 20,
      "outputs": [
        {
          "output_type": "execute_result",
          "data": {
            "text/plain": [
              "'[(1065.72,)]'"
            ],
            "application/vnd.google.colaboratory.intrinsic+json": {
              "type": "string"
            }
          },
          "metadata": {},
          "execution_count": 20
        }
      ]
    },
    {
      "cell_type": "code",
      "source": [
        "from langchain.chains import create_sql_query_chain\n",
        "from langchain_community.tools.sql_database.tool import QuerySQLDatabaseTool\n",
        "from langchain_core.prompts import PromptTemplate\n",
        "from langchain_core.output_parsers import StrOutputParser\n",
        "\n",
        "answer_prompt = PromptTemplate.from_template(\n",
        "    \"Given the following user question, corresponding SQL query, and SQL result, answer the user question.\\n\\n\"\n",
        "    \"Question: {question}\\n\"\n",
        "    \"SQL Query: {query}\\n\"\n",
        "    \"SQL Result: {result}\\n\"\n",
        "    \"Answer:\"\n",
        ")\n",
        "rephrase_answer = answer_prompt | llm | StrOutputParser()\n",
        "\n",
        "def answer_question(question: str, llm, db):\n",
        "    generate_query = create_sql_query_chain(llm, db)\n",
        "    generated_response = generate_query.invoke({\"question\": question})\n",
        "    query_text = generated_response.split(\"SQLQuery:\")[1].strip()\n",
        "    execute_query = QuerySQLDatabaseTool(db=db)\n",
        "    sql_result = execute_query.invoke(query_text)\n",
        "    final_answer = rephrase_answer.invoke({\n",
        "        \"question\": question,\n",
        "        \"query\": query_text,\n",
        "        \"result\": sql_result\n",
        "    })\n",
        "    return final_answer\n"
      ],
      "metadata": {
        "id": "Bbx_0WHvpVsr"
      },
      "execution_count": 25,
      "outputs": []
    },
    {
      "cell_type": "code",
      "source": [
        "answer_question(\"How much I spent on starbucks and on what items?\", llm, db)"
      ],
      "metadata": {
        "colab": {
          "base_uri": "https://localhost:8080/",
          "height": 36
        },
        "id": "joRg2gijrP4g",
        "outputId": "4d2acb0b-3c94-4ebb-88c1-f99661857e28"
      },
      "execution_count": 28,
      "outputs": [
        {
          "output_type": "execute_result",
          "data": {
            "text/plain": [
              "'You spent $8.75 at Starbucks on a sandwich and coffee.'"
            ],
            "application/vnd.google.colaboratory.intrinsic+json": {
              "type": "string"
            }
          },
          "metadata": {},
          "execution_count": 28
        }
      ]
    },
    {
      "cell_type": "code",
      "source": [],
      "metadata": {
        "id": "WqBa0ESswENH"
      },
      "execution_count": null,
      "outputs": []
    }
  ]
}